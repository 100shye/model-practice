{
 "cells": [
  {
   "cell_type": "markdown",
   "id": "western-adoption",
   "metadata": {},
   "source": [
    "# 실제 시험처럼 한바닥에서만 문제 풀어보기"
   ]
  },
  {
   "cell_type": "markdown",
   "id": "exterior-hundred",
   "metadata": {},
   "source": [
    "### 예제 문제"
   ]
  },
  {
   "cell_type": "markdown",
   "id": "diverse-cameroon",
   "metadata": {},
   "source": [
    "1. 작업형 1유형. <br>\n",
    "mtcars 데이터셋의 qsec 컬럼을 최소 최대 척도로 변환해서 0.5보다 큰 레코드 수 구하기\n",
    "\n"
   ]
  },
  {
   "cell_type": "code",
   "execution_count": 9,
   "id": "circular-verification",
   "metadata": {},
   "outputs": [
    {
     "name": "stdout",
     "output_type": "stream",
     "text": [
      "9\n"
     ]
    }
   ],
   "source": [
    "# 내 정답\n",
    "import pandas as pd\n",
    "path = 'C:/Users/100do/python/승혜/archive/'\n",
    "df = pd.read_csv(path + 'mtcars.csv')\n",
    "xcols = ['qsec', 'vs']\n",
    "from sklearn.preprocessing import MinMaxScaler\n",
    "scaler = MinMaxScaler()\n",
    "\n",
    "scaler.fit(df[xcols])\n",
    "df[xcols] = scaler.transform(df[xcols])\n",
    "awr = len(df[df['qsec'] > 0.5])\n",
    "print(awr)"
   ]
  },
  {
   "cell_type": "code",
   "execution_count": 19,
   "id": "tamil-absence",
   "metadata": {},
   "outputs": [
    {
     "name": "stdout",
     "output_type": "stream",
     "text": [
      "9\n"
     ]
    }
   ],
   "source": [
    "# 답\n",
    "df = pd.read_csv(path + 'mtcars.csv', index_col = 0)\n",
    "scaler.fit(df)\n",
    "scaled = scaler.transform(df)\n",
    "qsec_scaled = scaled[:, 6]\n",
    "b = qsec_scaled > 0.5\n",
    "print(sum(b))"
   ]
  },
  {
   "cell_type": "markdown",
   "id": "julian-language",
   "metadata": {},
   "source": [
    "2. 작업형 2 유형 <br>\n",
    "성별 예측 모형을 만들어서 csv 파일로 예측값 생성"
   ]
  },
  {
   "cell_type": "code",
   "execution_count": 63,
   "id": "excellent-graphics",
   "metadata": {
    "scrolled": true
   },
   "outputs": [
    {
     "name": "stderr",
     "output_type": "stream",
     "text": [
      "C:\\Users\\100do\\AppData\\Local\\Temp\\ipykernel_6928\\276349812.py:49: SettingWithCopyWarning: \n",
      "A value is trying to be set on a copy of a slice from a DataFrame.\n",
      "Try using .loc[row_indexer,col_indexer] = value instead\n",
      "\n",
      "See the caveats in the documentation: https://pandas.pydata.org/pandas-docs/stable/user_guide/indexing.html#returning-a-view-versus-a-copy\n",
      "  xtrain2[nums] = scaler.transform(xtrain2[nums])\n",
      "c:\\users\\100do\\appdata\\local\\programs\\python\\python38\\lib\\site-packages\\pandas\\core\\indexing.py:1738: SettingWithCopyWarning: \n",
      "A value is trying to be set on a copy of a slice from a DataFrame.\n",
      "Try using .loc[row_indexer,col_indexer] = value instead\n",
      "\n",
      "See the caveats in the documentation: https://pandas.pydata.org/pandas-docs/stable/user_guide/indexing.html#returning-a-view-versus-a-copy\n",
      "  self._setitem_single_column(loc, value[:, i].tolist(), pi)\n",
      "C:\\Users\\100do\\AppData\\Local\\Temp\\ipykernel_6928\\276349812.py:50: SettingWithCopyWarning: \n",
      "A value is trying to be set on a copy of a slice from a DataFrame.\n",
      "Try using .loc[row_indexer,col_indexer] = value instead\n",
      "\n",
      "See the caveats in the documentation: https://pandas.pydata.org/pandas-docs/stable/user_guide/indexing.html#returning-a-view-versus-a-copy\n",
      "  xvalid[nums] = scaler.transform(xvalid[nums])\n",
      "c:\\users\\100do\\appdata\\local\\programs\\python\\python38\\lib\\site-packages\\pandas\\core\\indexing.py:1738: SettingWithCopyWarning: \n",
      "A value is trying to be set on a copy of a slice from a DataFrame.\n",
      "Try using .loc[row_indexer,col_indexer] = value instead\n",
      "\n",
      "See the caveats in the documentation: https://pandas.pydata.org/pandas-docs/stable/user_guide/indexing.html#returning-a-view-versus-a-copy\n",
      "  self._setitem_single_column(loc, value[:, i].tolist(), pi)\n"
     ]
    },
    {
     "name": "stdout",
     "output_type": "stream",
     "text": [
      "      cust_id  gender\n",
      "0        3500       0\n",
      "1        3501       0\n",
      "2        3502       0\n",
      "3        3503       0\n",
      "4        3504       0\n",
      "...       ...     ...\n",
      "2477     5977       1\n",
      "2478     5978       1\n",
      "2479     5979       0\n",
      "2480     5980       1\n",
      "2481     5981       0\n",
      "\n",
      "[2482 rows x 2 columns]\n"
     ]
    }
   ],
   "source": [
    "# 내가 푼거\n",
    "# 1 test, train 둘다 결측값 처리, 라벨 encoder 해주기 2. train 데이터 min max scale, test 셋도 min max scale 3. 모델 불러와서 예측\n",
    "\n",
    "import pandas as pd\n",
    "path = 'C:/Users/100do/python/승혜/archive/'\n",
    "ytrain = pd.read_csv(path + 'y_train.csv')\n",
    "xtrain = pd.read_csv(path + 'X_train_2.csv' )\n",
    "xtest = pd.read_csv(path + 'X_test_2.csv')\n",
    "\n",
    "#print(100*xtrain.isnull().sum()/len(xtrain))  # 결측값은 환불에만 있으니 그냥 0으로 바꿔주자\n",
    "#print(100*xtest.isnull().sum()/len(xtest))\n",
    "xtrain = xtrain.fillna(0)\n",
    "xtest = xtest.fillna(0)\n",
    "from sklearn.preprocessing import LabelEncoder\n",
    "\n",
    "encoder = LabelEncoder()\n",
    "#print(help(encoder))\n",
    "\n",
    "ob = ['main_product', 'where']\n",
    "for i in ob:\n",
    "    encoder.fit(xtrain[i])\n",
    "    xtrain[i] = encoder.transform(xtrain[i])\n",
    "    xtest[i] = encoder.transform(xtest[i])\n",
    "\n",
    "\n",
    "# outlier 처리\n",
    "nums = xtrain2.columns.difference(ob+['cust_id'])\n",
    "q3 = xtrain.quantile(q = 0.75)\n",
    "q1 = xtrain.quantile(q = 0.25)\n",
    "iqr = q3 - q1\n",
    "up = q3 + iqr*1.5\n",
    "down = q1 - iqr*1.5\n",
    "xtrain_rm = xtrain[xtrain < q3]\n",
    "xtrain_rm = xtrain_rm.fillna(q3)\n",
    "xtrain_rm = xtrain[xtrain > q1]\n",
    "xtrain_rm = xtrain_rm.fillna(q1)\n",
    "xtrain[nums] = xtrain_rm[nums]\n",
    "    \n",
    "# xtrain data set을 valid 셋 분리시키기\n",
    "from sklearn.model_selection import train_test_split\n",
    "xtrain2, xvalid, ytrain2, yvalid = train_test_split(xtrain, ytrain, test_size=0.25, random_state=42)\n",
    "\n",
    "\n",
    "\n",
    "# scaler\n",
    "from sklearn.preprocessing import MinMaxScaler\n",
    "scaler = MinMaxScaler()\n",
    "nums = xtrain2.columns.difference(ob+['cust_id'])\n",
    "scaler.fit(xtrain2[nums])\n",
    "xtrain2[nums] = scaler.transform(xtrain2[nums])\n",
    "xvalid[nums] = scaler.transform(xvalid[nums])\n",
    "xtest[nums] = scaler.transform(xtest[nums])\n",
    "\n",
    "# model 사용\n",
    "from xgboost.sklearn import XGBClassifier\n",
    "\n",
    "xgb = XGBClassifier()\n",
    "\n",
    "\n",
    "y = ytrain2['gender']\n",
    "cols = xtrain2.columns.difference(['cust_id'])\n",
    "xgb.fit(xtrain2[cols], y)\n",
    "ypred = xgb.predict(xvalid[cols])\n",
    "\n",
    "from sklearn.metrics import accuracy_score\n",
    "accuracy_score(yvalid['gender'], ypred)\n",
    "\n",
    "ypred = xgb.predict(xtest[cols])\n",
    "\n",
    "awr = pd.DataFrame()\n",
    "awr['cust_id'] = xtest['cust_id']\n",
    "awr['gender']  = ypred\n",
    "print(awr)"
   ]
  },
  {
   "cell_type": "code",
   "execution_count": 17,
   "id": "configured-application",
   "metadata": {},
   "outputs": [],
   "source": [
    "# 책의 답\n",
    "import pandas as pd\n",
    "path = 'C:/Users/100do/python/승혜/archive/'\n",
    "ytrain = pd.read_csv(path + 'y_train.csv')\n",
    "xtrain = pd.read_csv(path + 'X_train_2.csv' )\n",
    "xtest = pd.read_csv(path + 'X_test_2.csv')\n",
    "\n",
    "# 글자 숫자 분리\n",
    "ob = ['main_product', 'where']\n",
    "num = xtrain.columns.difference(ob + ['cust_id'])\n",
    "\n",
    "# 숫자 전처리\n",
    "xtrain_num = xtrain[num].fillna(0)\n",
    "\n",
    "# 글자 전처리\n",
    "xtrain_ob = xtrain[ob]\n",
    "xtrain_ob = pd.get_dummies(xtrain_ob)\n",
    "\n",
    "# test 데이터도 동일하게 전처리 ㄱ\n",
    "xtest_num = xtest[num].fillna(0)\n",
    "xtest_ob = xtest[ob]\n",
    "xtest_ob = pd.get_dummies(xtest_ob)\n",
    "\n",
    "# ob 데이터를 test, train 동일 변수로 맞추기\n",
    "xtrain_ob, xtest_ob = xtrain_ob.align(xtest_ob, join = 'inner', axis = 1)\n",
    "\n",
    "# num 데이터 scailing\n",
    "from sklearn.preprocessing import MinMaxScaler\n",
    "\n",
    "scaler = MinMaxScaler()\n",
    "scaler.fit(xtrain_num)\n",
    "xtrain_scaled = scaler.transform(xtrain_num)\n",
    "xtest_scaled = scaler.transform(xtest_num)\n",
    "\n",
    "# 최종 데이터\n",
    "xtrain_final = xtrain_ob\n",
    "xtrain_final[num] = xtrain_scaled\n",
    "\n",
    "xtest_final = xtest_ob\n",
    "xtest_final[num] = xtest_scaled\n",
    "\n",
    "y = ytrain['gender']\n",
    "\n",
    "from sklearn.linear_model import LogisticRegression\n",
    "model = LogisticRegression()\n",
    "model.fit(xtrain_final, y)\n",
    "\n",
    "ypred = model.predict_proba(xtest_final)\n",
    "answer['gender'] = ypred[:,1]\n",
    "answer['cust_id'] = xtest['cust_id']\n"
   ]
  },
  {
   "cell_type": "markdown",
   "id": "departmental-macro",
   "metadata": {},
   "source": [
    "### 제 2회 실기 작업형 기출문제"
   ]
  },
  {
   "cell_type": "markdown",
   "id": "instrumental-musical",
   "metadata": {},
   "source": [
    "1. 제 2회 실기 작업형 제 1 유형"
   ]
  }
 ],
 "metadata": {
  "kernelspec": {
   "display_name": "Python 3 (ipykernel)",
   "language": "python",
   "name": "python3"
  },
  "language_info": {
   "codemirror_mode": {
    "name": "ipython",
    "version": 3
   },
   "file_extension": ".py",
   "mimetype": "text/x-python",
   "name": "python",
   "nbconvert_exporter": "python",
   "pygments_lexer": "ipython3",
   "version": "3.8.8"
  }
 },
 "nbformat": 4,
 "nbformat_minor": 5
}
