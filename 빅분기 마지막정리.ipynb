{
 "cells": [
  {
   "cell_type": "markdown",
   "id": "western-adoption",
   "metadata": {},
   "source": [
    "# 실제 시험처럼 한바닥에서만 문제 풀어보기"
   ]
  },
  {
   "cell_type": "markdown",
   "id": "exterior-hundred",
   "metadata": {},
   "source": [
    "### 예제 문제"
   ]
  },
  {
   "cell_type": "markdown",
   "id": "diverse-cameroon",
   "metadata": {},
   "source": [
    "1. 작업형 1유형. <br>\n",
    "mtcars 데이터셋의 qsec 컬럼을 최소 최대 척도로 변환해서 0.5보다 큰 레코드 수 구하기\n",
    "\n"
   ]
  },
  {
   "cell_type": "code",
   "execution_count": 9,
   "id": "circular-verification",
   "metadata": {},
   "outputs": [
    {
     "name": "stdout",
     "output_type": "stream",
     "text": [
      "9\n"
     ]
    }
   ],
   "source": [
    "# 내 정답\n",
    "import pandas as pd\n",
    "path = 'C:/Users/100do/python/승혜/archive/'\n",
    "df = pd.read_csv(path + 'mtcars.csv')\n",
    "xcols = ['qsec', 'vs']\n",
    "from sklearn.preprocessing import MinMaxScaler\n",
    "scaler = MinMaxScaler()\n",
    "\n",
    "scaler.fit(df[xcols])\n",
    "df[xcols] = scaler.transform(df[xcols])\n",
    "awr = len(df[df['qsec'] > 0.5])\n",
    "print(awr)"
   ]
  },
  {
   "cell_type": "code",
   "execution_count": 19,
   "id": "tamil-absence",
   "metadata": {},
   "outputs": [
    {
     "name": "stdout",
     "output_type": "stream",
     "text": [
      "9\n"
     ]
    }
   ],
   "source": [
    "# 답\n",
    "df = pd.read_csv(path + 'mtcars.csv', index_col = 0)\n",
    "scaler.fit(df)\n",
    "scaled = scaler.transform(df)\n",
    "qsec_scaled = scaled[:, 6]\n",
    "b = qsec_scaled > 0.5\n",
    "print(sum(b))"
   ]
  },
  {
   "cell_type": "markdown",
   "id": "julian-language",
   "metadata": {},
   "source": [
    "2. 작업형 2 유형 <br>\n",
    "성별 예측 모형을 만들어서 csv 파일로 예측값 생성"
   ]
  },
  {
   "cell_type": "code",
   "execution_count": 63,
   "id": "excellent-graphics",
   "metadata": {
    "scrolled": true
   },
   "outputs": [
    {
     "name": "stderr",
     "output_type": "stream",
     "text": [
      "C:\\Users\\100do\\AppData\\Local\\Temp\\ipykernel_6928\\276349812.py:49: SettingWithCopyWarning: \n",
      "A value is trying to be set on a copy of a slice from a DataFrame.\n",
      "Try using .loc[row_indexer,col_indexer] = value instead\n",
      "\n",
      "See the caveats in the documentation: https://pandas.pydata.org/pandas-docs/stable/user_guide/indexing.html#returning-a-view-versus-a-copy\n",
      "  xtrain2[nums] = scaler.transform(xtrain2[nums])\n",
      "c:\\users\\100do\\appdata\\local\\programs\\python\\python38\\lib\\site-packages\\pandas\\core\\indexing.py:1738: SettingWithCopyWarning: \n",
      "A value is trying to be set on a copy of a slice from a DataFrame.\n",
      "Try using .loc[row_indexer,col_indexer] = value instead\n",
      "\n",
      "See the caveats in the documentation: https://pandas.pydata.org/pandas-docs/stable/user_guide/indexing.html#returning-a-view-versus-a-copy\n",
      "  self._setitem_single_column(loc, value[:, i].tolist(), pi)\n",
      "C:\\Users\\100do\\AppData\\Local\\Temp\\ipykernel_6928\\276349812.py:50: SettingWithCopyWarning: \n",
      "A value is trying to be set on a copy of a slice from a DataFrame.\n",
      "Try using .loc[row_indexer,col_indexer] = value instead\n",
      "\n",
      "See the caveats in the documentation: https://pandas.pydata.org/pandas-docs/stable/user_guide/indexing.html#returning-a-view-versus-a-copy\n",
      "  xvalid[nums] = scaler.transform(xvalid[nums])\n",
      "c:\\users\\100do\\appdata\\local\\programs\\python\\python38\\lib\\site-packages\\pandas\\core\\indexing.py:1738: SettingWithCopyWarning: \n",
      "A value is trying to be set on a copy of a slice from a DataFrame.\n",
      "Try using .loc[row_indexer,col_indexer] = value instead\n",
      "\n",
      "See the caveats in the documentation: https://pandas.pydata.org/pandas-docs/stable/user_guide/indexing.html#returning-a-view-versus-a-copy\n",
      "  self._setitem_single_column(loc, value[:, i].tolist(), pi)\n"
     ]
    },
    {
     "name": "stdout",
     "output_type": "stream",
     "text": [
      "      cust_id  gender\n",
      "0        3500       0\n",
      "1        3501       0\n",
      "2        3502       0\n",
      "3        3503       0\n",
      "4        3504       0\n",
      "...       ...     ...\n",
      "2477     5977       1\n",
      "2478     5978       1\n",
      "2479     5979       0\n",
      "2480     5980       1\n",
      "2481     5981       0\n",
      "\n",
      "[2482 rows x 2 columns]\n"
     ]
    }
   ],
   "source": [
    "# 내가 푼거\n",
    "# 1 test, train 둘다 결측값 처리, 라벨 encoder 해주기 2. train 데이터 min max scale, test 셋도 min max scale 3. 모델 불러와서 예측\n",
    "\n",
    "import pandas as pd\n",
    "path = 'C:/Users/100do/python/승혜/archive/'\n",
    "ytrain = pd.read_csv(path + 'y_train.csv')\n",
    "xtrain = pd.read_csv(path + 'X_train_2.csv' )\n",
    "xtest = pd.read_csv(path + 'X_test_2.csv')\n",
    "\n",
    "#print(100*xtrain.isnull().sum()/len(xtrain))  # 결측값은 환불에만 있으니 그냥 0으로 바꿔주자\n",
    "#print(100*xtest.isnull().sum()/len(xtest))\n",
    "xtrain = xtrain.fillna(0)\n",
    "xtest = xtest.fillna(0)\n",
    "from sklearn.preprocessing import LabelEncoder\n",
    "\n",
    "encoder = LabelEncoder()\n",
    "#print(help(encoder))\n",
    "\n",
    "ob = ['main_product', 'where']\n",
    "for i in ob:\n",
    "    encoder.fit(xtrain[i])\n",
    "    xtrain[i] = encoder.transform(xtrain[i])\n",
    "    xtest[i] = encoder.transform(xtest[i])\n",
    "\n",
    "\n",
    "# outlier 처리\n",
    "nums = xtrain2.columns.difference(ob+['cust_id'])\n",
    "q3 = xtrain.quantile(q = 0.75)\n",
    "q1 = xtrain.quantile(q = 0.25)\n",
    "iqr = q3 - q1\n",
    "up = q3 + iqr*1.5\n",
    "down = q1 - iqr*1.5\n",
    "xtrain_rm = xtrain[xtrain < q3]\n",
    "xtrain_rm = xtrain_rm.fillna(q3)\n",
    "xtrain_rm = xtrain[xtrain > q1]\n",
    "xtrain_rm = xtrain_rm.fillna(q1)\n",
    "xtrain[nums] = xtrain_rm[nums]\n",
    "    \n",
    "# xtrain data set을 valid 셋 분리시키기\n",
    "from sklearn.model_selection import train_test_split\n",
    "xtrain2, xvalid, ytrain2, yvalid = train_test_split(xtrain, ytrain, test_size=0.25, random_state=42)\n",
    "\n",
    "\n",
    "\n",
    "# scaler\n",
    "from sklearn.preprocessing import MinMaxScaler\n",
    "scaler = MinMaxScaler()\n",
    "nums = xtrain2.columns.difference(ob+['cust_id'])\n",
    "scaler.fit(xtrain2[nums])\n",
    "xtrain2[nums] = scaler.transform(xtrain2[nums])\n",
    "xvalid[nums] = scaler.transform(xvalid[nums])\n",
    "xtest[nums] = scaler.transform(xtest[nums])\n",
    "\n",
    "# model 사용\n",
    "from xgboost.sklearn import XGBClassifier\n",
    "\n",
    "xgb = XGBClassifier()\n",
    "\n",
    "\n",
    "y = ytrain2['gender']\n",
    "cols = xtrain2.columns.difference(['cust_id'])\n",
    "xgb.fit(xtrain2[cols], y)\n",
    "ypred = xgb.predict(xvalid[cols])\n",
    "\n",
    "from sklearn.metrics import accuracy_score\n",
    "accuracy_score(yvalid['gender'], ypred)\n",
    "\n",
    "ypred = xgb.predict(xtest[cols])\n",
    "\n",
    "awr = pd.DataFrame()\n",
    "awr['cust_id'] = xtest['cust_id']\n",
    "awr['gender']  = ypred\n",
    "print(awr)"
   ]
  },
  {
   "cell_type": "code",
   "execution_count": 17,
   "id": "configured-application",
   "metadata": {},
   "outputs": [],
   "source": [
    "# 책의 답\n",
    "import pandas as pd\n",
    "path = 'C:/Users/100do/python/승혜/archive/'\n",
    "ytrain = pd.read_csv(path + 'y_train.csv')\n",
    "xtrain = pd.read_csv(path + 'X_train_2.csv' )\n",
    "xtest = pd.read_csv(path + 'X_test_2.csv')\n",
    "\n",
    "# 글자 숫자 분리\n",
    "ob = ['main_product', 'where']\n",
    "num = xtrain.columns.difference(ob + ['cust_id'])\n",
    "\n",
    "# 숫자 전처리\n",
    "xtrain_num = xtrain[num].fillna(0)\n",
    "\n",
    "# 글자 전처리\n",
    "xtrain_ob = xtrain[ob]\n",
    "xtrain_ob = pd.get_dummies(xtrain_ob)\n",
    "\n",
    "# test 데이터도 동일하게 전처리 ㄱ\n",
    "xtest_num = xtest[num].fillna(0)\n",
    "xtest_ob = xtest[ob]\n",
    "xtest_ob = pd.get_dummies(xtest_ob)\n",
    "\n",
    "# ob 데이터를 test, train 동일 변수로 맞추기\n",
    "xtrain_ob, xtest_ob = xtrain_ob.align(xtest_ob, join = 'inner', axis = 1)\n",
    "\n",
    "# num 데이터 scailing\n",
    "from sklearn.preprocessing import MinMaxScaler\n",
    "\n",
    "scaler = MinMaxScaler()\n",
    "scaler.fit(xtrain_num)\n",
    "xtrain_scaled = scaler.transform(xtrain_num)\n",
    "xtest_scaled = scaler.transform(xtest_num)\n",
    "\n",
    "# 최종 데이터\n",
    "xtrain_final = xtrain_ob\n",
    "xtrain_final[num] = xtrain_scaled\n",
    "\n",
    "xtest_final = xtest_ob\n",
    "xtest_final[num] = xtest_scaled\n",
    "\n",
    "y = ytrain['gender']\n",
    "\n",
    "from sklearn.linear_model import LogisticRegression\n",
    "model = LogisticRegression()\n",
    "model.fit(xtrain_final, y)\n",
    "\n",
    "ypred = model.predict_proba(xtest_final)\n",
    "answer['gender'] = ypred[:,1]\n",
    "answer['cust_id'] = xtest['cust_id']\n"
   ]
  },
  {
   "cell_type": "markdown",
   "id": "departmental-macro",
   "metadata": {},
   "source": [
    "### 제 2회 실기 작업형 기출문제"
   ]
  },
  {
   "cell_type": "markdown",
   "id": "instrumental-musical",
   "metadata": {},
   "source": [
    "1. 제 2회 실기 작업형 제 1 유형 <br>\n",
    "crim 항목의 상위에서 10번째 값으로 상위 10개 샘플을 변환하고 age 80 이상인 값에 대해 crim 평균을 구하기 <br>\n",
    "푸는데 걸린시간:  8:30 ~ 8:45"
   ]
  },
  {
   "cell_type": "code",
   "execution_count": 24,
   "id": "2589200a",
   "metadata": {},
   "outputs": [
    {
     "name": "stdout",
     "output_type": "stream",
     "text": [
      "5.923388119266055\n"
     ]
    }
   ],
   "source": [
    "# 내가 푼 답\n",
    "import pandas as pd\n",
    "path = 'C:/Users/100sh/python/algorithm/데이터셋/boston/archive/'\n",
    "df = pd.read_csv(path + 'HousingData.csv')\n",
    "\n",
    "df = df.sort_values(by = ['CRIM'], ascending = False)\n",
    "T = df['CRIM'].values[9]\n",
    "data = df['CRIM'].values\n",
    "data[:9] = T\n",
    "df['CRIM'] = data\n",
    "#df = df.reset_index(drop = True)\n",
    "df2 = df[df['AGE'] >= 80]\n",
    "awr = df2['CRIM'].mean()\n",
    "print(awr)"
   ]
  },
  {
   "cell_type": "code",
   "execution_count": 25,
   "id": "124d7652",
   "metadata": {},
   "outputs": [
    {
     "name": "stdout",
     "output_type": "stream",
     "text": [
      "5.923388119266055\n"
     ]
    }
   ],
   "source": [
    "# 책이 푼 답  -> 책이랑은 답이 다른데 내 답이랑 똑같으니까, 데이터가 달라졌다고 생각하자.\n",
    "df = pd.read_csv(path + 'HousingData.csv')\n",
    "df_sort= df.sort_values(by = 'CRIM', ascending = False)\n",
    "def recode(series):\n",
    "    if series >= 25.9406:\n",
    "        return(25.9406)\n",
    "    else:\n",
    "        return(series)\n",
    "df_sort['crim2'] = df_sort['CRIM'].apply(recode)\n",
    "df_80 = df_sort[df_sort['AGE'] >= 80]\n",
    "print(df_80['crim2'].mean())"
   ]
  },
  {
   "cell_type": "markdown",
   "id": "16972ade",
   "metadata": {},
   "source": [
    "2. california housing 데이터 위에서 80% 를 train 데이터로 추출 후 total bedrooms 변수의 결측값 na를 중앙값으로 대체하고 대체 전의 변수 표준편차 값의 차이의 절댓값을 구해라 <br>\n",
    "푸는데 걸린 시간: 9:00~ 9:07 "
   ]
  },
  {
   "cell_type": "code",
   "execution_count": 34,
   "id": "4be5bd9d",
   "metadata": {},
   "outputs": [
    {
     "data": {
      "text/plain": [
       "1.975147291645726"
      ]
     },
     "execution_count": 34,
     "metadata": {},
     "output_type": "execute_result"
    }
   ],
   "source": [
    "# 내가 푼 답\n",
    "\n",
    "import numpy as np\n",
    "path = 'C:/Users/100sh/python/algorithm/데이터셋/california_housing/archive/'\n",
    "df = pd.read_csv(path + 'housing.csv')\n",
    "nums = int(len(df)*0.8)\n",
    "df2 = df.iloc[:nums,]\n",
    "df3 = df2.fillna(df2.median())\n",
    "v1 = df2['total_bedrooms'].std()\n",
    "v2 = df3['total_bedrooms'].std()\n",
    "np.abs(v1 - v2)"
   ]
  },
  {
   "cell_type": "markdown",
   "id": "5cdd93e1",
   "metadata": {},
   "source": [
    "3. insurance 데이터셋에서 charges 항목의 이상값의 합을 구하시오 <br>\n",
    "이상값은 평균에서 1.5표준편차 이상인 값 <br>\n",
    "푸는데 결린시간: 7:05 ~ 7:10"
   ]
  },
  {
   "cell_type": "code",
   "execution_count": 14,
   "id": "74fea88a",
   "metadata": {},
   "outputs": [
    {
     "name": "stdout",
     "output_type": "stream",
     "text": [
      "6421430.0206699995\n"
     ]
    }
   ],
   "source": [
    "# 내가 푼 답\n",
    "\n",
    "import pandas as pd\n",
    "path = 'C:/Users/100sh/python/algorithm/데이터셋/'\n",
    "df = pd.read_csv(path +'insurance.csv' )\n",
    "up = df.mean() + 1.5*df.std()\n",
    "c = up['charges']\n",
    "df2 = df[df['charges']>=c]\n",
    "awr = df2.sum()['charges']\n",
    "print(awr)"
   ]
  },
  {
   "cell_type": "markdown",
   "id": "a5681b11",
   "metadata": {},
   "source": [
    "4. 제 2회 실기 작업형 제 2유형 <br>\n",
    "물품의 정시 도착 여부를 예측하시요. id 와 예측치를 csv 파일로 저장하여 제출 <br>\n",
    "걸린시간 : 8:00~ 8:40 <br>\n",
    "예측력: 0.65 <br>\n",
    "\n",
    "* 모델 학습할때 id는 제외하는거 잊지말기"
   ]
  },
  {
   "cell_type": "code",
   "execution_count": 63,
   "id": "c1049d02",
   "metadata": {},
   "outputs": [
    {
     "name": "stderr",
     "output_type": "stream",
     "text": [
      "<ipython-input-63-371a3690f74e>:26: SettingWithCopyWarning: \n",
      "A value is trying to be set on a copy of a slice from a DataFrame.\n",
      "Try using .loc[row_indexer,col_indexer] = value instead\n",
      "\n",
      "See the caveats in the documentation: https://pandas.pydata.org/pandas-docs/stable/user_guide/indexing.html#returning-a-view-versus-a-copy\n",
      "  xtrain[i] = encoder.transform(xtrain[i])\n",
      "<ipython-input-63-371a3690f74e>:27: SettingWithCopyWarning: \n",
      "A value is trying to be set on a copy of a slice from a DataFrame.\n",
      "Try using .loc[row_indexer,col_indexer] = value instead\n",
      "\n",
      "See the caveats in the documentation: https://pandas.pydata.org/pandas-docs/stable/user_guide/indexing.html#returning-a-view-versus-a-copy\n",
      "  xtest[i] = encoder.transform(xtest[i])\n",
      "<ipython-input-63-371a3690f74e>:57: SettingWithCopyWarning: \n",
      "A value is trying to be set on a copy of a slice from a DataFrame.\n",
      "Try using .loc[row_indexer,col_indexer] = value instead\n",
      "\n",
      "See the caveats in the documentation: https://pandas.pydata.org/pandas-docs/stable/user_guide/indexing.html#returning-a-view-versus-a-copy\n",
      "  xtrain_num[num] = scaler.transform(xtrain_num[num])\n",
      "C:\\Users\\100sh\\anaconda3\\lib\\site-packages\\pandas\\core\\indexing.py:1738: SettingWithCopyWarning: \n",
      "A value is trying to be set on a copy of a slice from a DataFrame.\n",
      "Try using .loc[row_indexer,col_indexer] = value instead\n",
      "\n",
      "See the caveats in the documentation: https://pandas.pydata.org/pandas-docs/stable/user_guide/indexing.html#returning-a-view-versus-a-copy\n",
      "  self._setitem_single_column(loc, value[:, i].tolist(), pi)\n",
      "<ipython-input-63-371a3690f74e>:58: SettingWithCopyWarning: \n",
      "A value is trying to be set on a copy of a slice from a DataFrame.\n",
      "Try using .loc[row_indexer,col_indexer] = value instead\n",
      "\n",
      "See the caveats in the documentation: https://pandas.pydata.org/pandas-docs/stable/user_guide/indexing.html#returning-a-view-versus-a-copy\n",
      "  xtest_num[num] = scaler.transform(xtest_num[num])\n",
      "C:\\Users\\100sh\\anaconda3\\lib\\site-packages\\pandas\\core\\indexing.py:1738: SettingWithCopyWarning: \n",
      "A value is trying to be set on a copy of a slice from a DataFrame.\n",
      "Try using .loc[row_indexer,col_indexer] = value instead\n",
      "\n",
      "See the caveats in the documentation: https://pandas.pydata.org/pandas-docs/stable/user_guide/indexing.html#returning-a-view-versus-a-copy\n",
      "  self._setitem_single_column(loc, value[:, i].tolist(), pi)\n",
      "C:\\Users\\100sh\\anaconda3\\lib\\site-packages\\pandas\\core\\frame.py:3191: SettingWithCopyWarning: \n",
      "A value is trying to be set on a copy of a slice from a DataFrame.\n",
      "Try using .loc[row_indexer,col_indexer] = value instead\n",
      "\n",
      "See the caveats in the documentation: https://pandas.pydata.org/pandas-docs/stable/user_guide/indexing.html#returning-a-view-versus-a-copy\n",
      "  self[k1] = value[k2]\n"
     ]
    },
    {
     "name": "stdout",
     "output_type": "stream",
     "text": [
      "        ID  pred\n",
      "107    108     1\n",
      "5594  5595     0\n",
      "6997  6998     1\n",
      "3984  3985     0\n",
      "3111  3112     1\n"
     ]
    }
   ],
   "source": [
    "df = pd.read_csv(path + './ecommerce_shipping/Train.csv')\n",
    "ycol = ['Reached.on.Time_Y.N']\n",
    "xcol = df.columns.difference(ycol)\n",
    "\n",
    "x = df[xcol]\n",
    "y = df[ycol]\n",
    "\n",
    "# test 데이터 없으니 알아서 분리\n",
    "from sklearn.model_selection import train_test_split\n",
    "xtrain, xtest, ytrain, ytest = train_test_split(x, y, test_size=0.33, random_state=42)\n",
    "# print(xtrain.shape)\n",
    "# print(xtest.shape)\n",
    "\n",
    "\n",
    "# null값 제거, ob 데이터 분리해서 label encoder 붙이기 train, test 둘다\n",
    "# xtest.info()\n",
    "ob = ['Gender', 'Mode_of_Shipment', 'Product_importance', 'Warehouse_block']\n",
    "from sklearn.preprocessing import LabelEncoder\n",
    "# d = dir(sklearn.preprocessing)\n",
    "# for name in d:\n",
    "#     if '-' not in name:\n",
    "#         print(name)\n",
    "encoder = LabelEncoder()\n",
    "for i in ob:\n",
    "    encoder.fit(xtrain[i])\n",
    "    xtrain[i] = encoder.transform(xtrain[i])\n",
    "    xtest[i] = encoder.transform(xtest[i])\n",
    "\n",
    "# outlier 제거 하고 minmax scailing\n",
    "num = xtrain.columns.difference(ob+['ID'])\n",
    "xtrain_num = xtrain[num]\n",
    "xtest_num = xtest[num]\n",
    "\n",
    "# q3 = xtrain_num.quantile(q = 0.75)\n",
    "# q1 = xtrain_num.quantile(q = 0.25)\n",
    "# iqr = q3 - q1\n",
    "\n",
    "# up = q3 + iqr*1.5\n",
    "# down = q1 - iqr*1.5\n",
    "# xtrain_num = xtrain_num[xtrain_num < up]\n",
    "# xtrain_num = xtrain_num.fillna(up)\n",
    "\n",
    "# xtest_num = xtest_num[xtest_num < up]\n",
    "# xtest_num = xtest_num.fillna(up)\n",
    "\n",
    "# xtrain_num = xtrain_num[xtrain_num > down]\n",
    "# xtrain_num = xtrain_num.fillna(down)\n",
    "\n",
    "# xtest_num = xtest_num[xtest_num > down]\n",
    "# xtest_num = xtest_num.fillna(down)\n",
    "\n",
    "# minbmax scaling\n",
    "from sklearn.preprocessing import MinMaxScaler\n",
    "scaler = MinMaxScaler()\n",
    "\n",
    "scaler.fit(xtrain_num[num])\n",
    "xtrain_num[num] = scaler.transform(xtrain_num[num])\n",
    "xtest_num[num] = scaler.transform(xtest_num[num])\n",
    "\n",
    "xtrain[num] = xtrain_num\n",
    "xtest[num] = xtest_num\n",
    "\n",
    "train_col = xtrain.columns.difference(['ID'])\n",
    "\n",
    "\n",
    "# model train\n",
    "from xgboost.sklearn import XGBClassifier\n",
    "# d = dir(xgboost.sklearn)\n",
    "# for name in d:\n",
    "#     if '-' not in name:\n",
    "#         print(name)\n",
    "xgb = XGBClassifier()\n",
    "xgb.fit(xtrain[train_col], ytrain)\n",
    "ypred = xgb.predict(xtest[train_col])\n",
    "\n",
    "# from sklearn.metrics import accuracy_score\n",
    "# accuracy_score(ytest, ypred)\n",
    "awr = pd.DataFrame()\n",
    "awr['ID'] = xtest['ID']\n",
    "awr['pred'] = ypred\n",
    "print(awr.head())"
   ]
  },
  {
   "cell_type": "markdown",
   "id": "1c949551",
   "metadata": {},
   "source": [
    "### 제3회 실기 작업형 제 1 유형\n",
    "1. boston housing 데이셋에서 결측값 모두 제거 하고 데이터를 처음부터 순서대로 70% 추출해서 변수 중 'tax' 의 사분위수 q1값을 구해라 <br>\n",
    "걸린시간: 8:00 ~ 8:08\n"
   ]
  },
  {
   "cell_type": "code",
   "execution_count": 9,
   "id": "11d04339",
   "metadata": {},
   "outputs": [
    {
     "name": "stdout",
     "output_type": "stream",
     "text": [
      "264.0\n"
     ]
    }
   ],
   "source": [
    "\n",
    "import pandas as pd\n",
    "path = 'C:/Users/100sh/python/algorithm/데이터셋/'\n",
    "df = pd.read_csv(path + './boston/archive/HousingData.csv')\n",
    "df.head()\n",
    "t = int(len(df)*0.7)\n",
    "df2 = df.iloc[:t,]\n",
    "q1 = df2.quantile(q = 0.25)\n",
    "print(q1['TAX'])\n"
   ]
  },
  {
   "cell_type": "markdown",
   "id": "8fe4e5f0",
   "metadata": {},
   "source": [
    "2. 데이터셋의 컬럼 중 빈값 또는 결측치를 확인하여 결측치의 비율이 높은 변수명을 출력하시오."
   ]
  },
  {
   "cell_type": "code",
   "execution_count": 15,
   "id": "f3269f60",
   "metadata": {},
   "outputs": [
    {
     "data": {
      "text/plain": [
       "687"
      ]
     },
     "execution_count": 15,
     "metadata": {},
     "output_type": "execute_result"
    }
   ],
   "source": [
    "df = pd.read_csv(path + './titanic/train.csv')\n",
    "df.isnull().sum().sort_values(ascending = False)[0]"
   ]
  },
  {
   "cell_type": "markdown",
   "id": "bbe9dace",
   "metadata": {},
   "source": [
    "3. 여행객의 여행보험 상품 가입 여부를 예측하시오 <br>\n",
    "걸린시간: 8:30 ~ 9:00"
   ]
  },
  {
   "cell_type": "code",
   "execution_count": 54,
   "id": "4719ccce",
   "metadata": {
    "scrolled": true
   },
   "outputs": [
    {
     "name": "stderr",
     "output_type": "stream",
     "text": [
      "<ipython-input-54-1b8b676585f5>:6: SettingWithCopyWarning: \n",
      "A value is trying to be set on a copy of a slice from a DataFrame.\n",
      "Try using .loc[row_indexer,col_indexer] = value instead\n",
      "\n",
      "See the caveats in the documentation: https://pandas.pydata.org/pandas-docs/stable/user_guide/indexing.html#returning-a-view-versus-a-copy\n",
      "  x['ID'] = df.index\n",
      "<ipython-input-54-1b8b676585f5>:21: SettingWithCopyWarning: \n",
      "A value is trying to be set on a copy of a slice from a DataFrame.\n",
      "Try using .loc[row_indexer,col_indexer] = value instead\n",
      "\n",
      "See the caveats in the documentation: https://pandas.pydata.org/pandas-docs/stable/user_guide/indexing.html#returning-a-view-versus-a-copy\n",
      "  xtrain[i] = encoder.transform(xtrain[i])\n",
      "<ipython-input-54-1b8b676585f5>:22: SettingWithCopyWarning: \n",
      "A value is trying to be set on a copy of a slice from a DataFrame.\n",
      "Try using .loc[row_indexer,col_indexer] = value instead\n",
      "\n",
      "See the caveats in the documentation: https://pandas.pydata.org/pandas-docs/stable/user_guide/indexing.html#returning-a-view-versus-a-copy\n",
      "  xtest[i] = encoder.transform(xtest[i])\n",
      "<ipython-input-54-1b8b676585f5>:48: SettingWithCopyWarning: \n",
      "A value is trying to be set on a copy of a slice from a DataFrame.\n",
      "Try using .loc[row_indexer,col_indexer] = value instead\n",
      "\n",
      "See the caveats in the documentation: https://pandas.pydata.org/pandas-docs/stable/user_guide/indexing.html#returning-a-view-versus-a-copy\n",
      "  xtrain[num] = scaler.transform(xtrain_num)\n",
      "C:\\Users\\100sh\\anaconda3\\lib\\site-packages\\pandas\\core\\indexing.py:1738: SettingWithCopyWarning: \n",
      "A value is trying to be set on a copy of a slice from a DataFrame.\n",
      "Try using .loc[row_indexer,col_indexer] = value instead\n",
      "\n",
      "See the caveats in the documentation: https://pandas.pydata.org/pandas-docs/stable/user_guide/indexing.html#returning-a-view-versus-a-copy\n",
      "  self._setitem_single_column(loc, value[:, i].tolist(), pi)\n",
      "<ipython-input-54-1b8b676585f5>:49: SettingWithCopyWarning: \n",
      "A value is trying to be set on a copy of a slice from a DataFrame.\n",
      "Try using .loc[row_indexer,col_indexer] = value instead\n",
      "\n",
      "See the caveats in the documentation: https://pandas.pydata.org/pandas-docs/stable/user_guide/indexing.html#returning-a-view-versus-a-copy\n",
      "  xtest[num] = scaler.transform(xtest_num)\n",
      "C:\\Users\\100sh\\anaconda3\\lib\\site-packages\\pandas\\core\\indexing.py:1738: SettingWithCopyWarning: \n",
      "A value is trying to be set on a copy of a slice from a DataFrame.\n",
      "Try using .loc[row_indexer,col_indexer] = value instead\n",
      "\n",
      "See the caveats in the documentation: https://pandas.pydata.org/pandas-docs/stable/user_guide/indexing.html#returning-a-view-versus-a-copy\n",
      "  self._setitem_single_column(loc, value[:, i].tolist(), pi)\n"
     ]
    },
    {
     "data": {
      "text/html": [
       "<div>\n",
       "<style scoped>\n",
       "    .dataframe tbody tr th:only-of-type {\n",
       "        vertical-align: middle;\n",
       "    }\n",
       "\n",
       "    .dataframe tbody tr th {\n",
       "        vertical-align: top;\n",
       "    }\n",
       "\n",
       "    .dataframe thead th {\n",
       "        text-align: right;\n",
       "    }\n",
       "</style>\n",
       "<table border=\"1\" class=\"dataframe\">\n",
       "  <thead>\n",
       "    <tr style=\"text-align: right;\">\n",
       "      <th></th>\n",
       "      <th>ID</th>\n",
       "      <th>ypred</th>\n",
       "    </tr>\n",
       "  </thead>\n",
       "  <tbody>\n",
       "    <tr>\n",
       "      <th>212</th>\n",
       "      <td>212</td>\n",
       "      <td>0</td>\n",
       "    </tr>\n",
       "    <tr>\n",
       "      <th>1517</th>\n",
       "      <td>1517</td>\n",
       "      <td>1</td>\n",
       "    </tr>\n",
       "    <tr>\n",
       "      <th>785</th>\n",
       "      <td>785</td>\n",
       "      <td>0</td>\n",
       "    </tr>\n",
       "    <tr>\n",
       "      <th>1175</th>\n",
       "      <td>1175</td>\n",
       "      <td>0</td>\n",
       "    </tr>\n",
       "    <tr>\n",
       "      <th>1760</th>\n",
       "      <td>1760</td>\n",
       "      <td>1</td>\n",
       "    </tr>\n",
       "    <tr>\n",
       "      <th>...</th>\n",
       "      <td>...</td>\n",
       "      <td>...</td>\n",
       "    </tr>\n",
       "    <tr>\n",
       "      <th>513</th>\n",
       "      <td>513</td>\n",
       "      <td>0</td>\n",
       "    </tr>\n",
       "    <tr>\n",
       "      <th>81</th>\n",
       "      <td>81</td>\n",
       "      <td>0</td>\n",
       "    </tr>\n",
       "    <tr>\n",
       "      <th>1324</th>\n",
       "      <td>1324</td>\n",
       "      <td>0</td>\n",
       "    </tr>\n",
       "    <tr>\n",
       "      <th>1489</th>\n",
       "      <td>1489</td>\n",
       "      <td>1</td>\n",
       "    </tr>\n",
       "    <tr>\n",
       "      <th>380</th>\n",
       "      <td>380</td>\n",
       "      <td>0</td>\n",
       "    </tr>\n",
       "  </tbody>\n",
       "</table>\n",
       "<p>656 rows × 2 columns</p>\n",
       "</div>"
      ],
      "text/plain": [
       "        ID  ypred\n",
       "212    212      0\n",
       "1517  1517      1\n",
       "785    785      0\n",
       "1175  1175      0\n",
       "1760  1760      1\n",
       "...    ...    ...\n",
       "513    513      0\n",
       "81      81      0\n",
       "1324  1324      0\n",
       "1489  1489      1\n",
       "380    380      0\n",
       "\n",
       "[656 rows x 2 columns]"
      ]
     },
     "execution_count": 54,
     "metadata": {},
     "output_type": "execute_result"
    }
   ],
   "source": [
    "df = pd.read_csv(path + './travelinsuranceprediction/archive/TravelInsurancePrediction.csv')\n",
    "df.head()\n",
    "ycol = ['TravelInsurance']\n",
    "xcol = df.columns.difference(ycol+['Unnamed: 0'])\n",
    "x = df[xcol]\n",
    "x['ID'] = df.index\n",
    "y = df[ycol]\n",
    "\n",
    "\n",
    "# train, test 따로 없으니까 분리 먼저 하고 결측값 제거, label encoder 하기\n",
    "from sklearn.model_selection import train_test_split\n",
    "xtrain, xtest, ytrain, ytest = train_test_split(x, y, test_size=0.33, random_state=42)\n",
    "#xtest.isnull().sum()\n",
    "# xtrain.info()\n",
    "ob = ['Employment Type','EverTravelledAbroad','FrequentFlyer','GraduateOrNot']\n",
    "\n",
    "from sklearn.preprocessing import LabelEncoder\n",
    "encoder = LabelEncoder()\n",
    "for i in ob:\n",
    "    encoder.fit(xtrain[i])\n",
    "    xtrain[i] = encoder.transform(xtrain[i])\n",
    "    xtest[i] = encoder.transform(xtest[i])\n",
    "    \n",
    "# 이상치 변홚 하고 scaler로 변수 변환하기\n",
    "num = xtrain.columns.difference(ob + ['ID'])\n",
    "xtrain_num = xtrain[num]\n",
    "xtest_num = xtest[num]\n",
    "\n",
    "q3 = xtrain_num.quantile(q = 0.75)\n",
    "q1 = xtrain_num.quantile(q = 0.25)\n",
    "iqr = q3 - q1\n",
    "up = q3 + iqr*1.5\n",
    "down = q1 - iqr*1.5\n",
    "xtrain_num = xtrain_num[xtrain_num < up ]\n",
    "xtrain_num = xtrain_num.fillna(up)\n",
    "xtest_num = xtest_num[xtest_num < up]\n",
    "xtest_num = xtest_num.fillna(up)\n",
    "\n",
    "xtrain_num = xtrain_num[xtrain_num > down]\n",
    "xtrain_num = xtrain_num.fillna(down)\n",
    "xtest_num = xtest_num[xtest_num > down]\n",
    "xtest_num = xtest_num.fillna(down)\n",
    "\n",
    "# scaler \n",
    "from sklearn.preprocessing import MinMaxScaler\n",
    "scaler = MinMaxScaler()\n",
    "scaler.fit(xtrain_num)\n",
    "xtrain[num] = scaler.transform(xtrain_num)\n",
    "xtest[num] = scaler.transform(xtest_num)\n",
    "\n",
    "# 모델\n",
    "from xgboost.sklearn import XGBClassifier\n",
    "# d = dir(xgboost.sklearn)\n",
    "# for name in d:\n",
    "#     if '-' not in name:\n",
    "#         print(name)\n",
    "xgb = XGBClassifier()\n",
    "xgb.fit(xtrain[xcol], ytrain)\n",
    "ypred = xgb.predict(xtest[xcol])\n",
    "\n",
    "from sklearn.metrics import accuracy_score\n",
    "accuracy_score(ytest, ypred)\n",
    "\n",
    "awr = pd.DataFrame()\n",
    "awr['ID'] = xtest['ID']\n",
    "awr['ypred'] = ypred\n",
    "awr.to_csv('result.csv')"
   ]
  },
  {
   "cell_type": "code",
   "execution_count": null,
   "id": "b409f0dd",
   "metadata": {},
   "outputs": [],
   "source": [
    "\n"
   ]
  }
 ],
 "metadata": {
  "kernelspec": {
   "display_name": "Python 3",
   "language": "python",
   "name": "python3"
  },
  "language_info": {
   "codemirror_mode": {
    "name": "ipython",
    "version": 3
   },
   "file_extension": ".py",
   "mimetype": "text/x-python",
   "name": "python",
   "nbconvert_exporter": "python",
   "pygments_lexer": "ipython3",
   "version": "3.8.8"
  }
 },
 "nbformat": 4,
 "nbformat_minor": 5
}
