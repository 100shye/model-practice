{
 "cells": [
  {
   "cell_type": "markdown",
   "id": "comprehensive-scale",
   "metadata": {},
   "source": [
    "# 보스톤 집값 맞추기\n",
    "1. train, test 데이터 분리\n",
    "2. 각각 전처리 해주기 - min max scaler. <br>\n",
    "  train 데이터는 fit_transform(), test데이터는 transform()으로 해주면\n",
    "  test 데이터는 train에서 학습된 mean, v로 변환 되는 것이니까 이렇게 해줘.\n",
    "  target data 제외하고 scailing해야함. <br>\n",
    "  train 데이터를 train validation set으로 분햇\n",
    "  \n",
    "3. 모델학습 - randomforest, xgboost, lightgbm 회귀 예측이니까 regressor 3개 써보기\n",
    "4. 성능확인 - rmse 지표 mean squared error , rmse 낮을수록 좋은 모델\n",
    "5. test data 예측"
   ]
  },
  {
   "cell_type": "code",
   "execution_count": 1,
   "id": "alpine-berkeley",
   "metadata": {},
   "outputs": [],
   "source": [
    "from sklearn.datasets import load_boston\n",
    "import pandas as pd"
   ]
  },
  {
   "cell_type": "code",
   "execution_count": 2,
   "id": "normal-shakespeare",
   "metadata": {},
   "outputs": [],
   "source": [
    "df = pd.DataFrame(load_boston().data, columns = load_boston().feature_names)\n",
    "df['target'] = load_boston().target"
   ]
  },
  {
   "cell_type": "code",
   "execution_count": 21,
   "id": "separated-glass",
   "metadata": {
    "scrolled": true
   },
   "outputs": [],
   "source": [
    "from sklearn import model_selection\n",
    "from sklearn.model_selection import train_test_split"
   ]
  },
  {
   "cell_type": "code",
   "execution_count": 34,
   "id": "respective-clearing",
   "metadata": {},
   "outputs": [],
   "source": [
    "#  train, test 데이터 분리\n",
    "xcol= df.columns.difference(['target'])\n",
    "x = df[xcol]\n",
    "y = df['target']\n",
    "xtrain, xtest, ytrain, ytest = train_test_split(x, y, test_size=0.2, random_state=42)"
   ]
  },
  {
   "cell_type": "code",
   "execution_count": 35,
   "id": "desperate-header",
   "metadata": {},
   "outputs": [],
   "source": [
    "# 1. train, test 의 x 값만 min, max scaler로 스케일링\n",
    "# 2, train 셋을 train, validation으로 분리. \n",
    "from sklearn.preprocessing import MinMaxScaler\n",
    "scaler = MinMaxScaler()\n",
    "scaled_xtr = scaler.fit_transform(xtrain)\n",
    "scaled_xte = scaler.fit_transform(xtest)"
   ]
  },
  {
   "cell_type": "code",
   "execution_count": 48,
   "id": "analyzed-header",
   "metadata": {},
   "outputs": [],
   "source": [
    "# train셋을 train valid 셋으러 분리\n",
    "from sklearn import linear_model\n",
    "xtrain2, xvalid, ytrain2, yvalid = train_test_split(scaled_xtr, ytrain, test_size = 0.2, random_state = 42)\n",
    "\n",
    "# 모델 학습 회위예측 1. xgb, randomforest, lightgbm\n",
    "import xgboost\n",
    "import lightgbm"
   ]
  },
  {
   "cell_type": "code",
   "execution_count": 51,
   "id": "outstanding-supervisor",
   "metadata": {},
   "outputs": [],
   "source": [
    "from lightgbm import LGBMRegressor"
   ]
  },
  {
   "cell_type": "code",
   "execution_count": 63,
   "id": "common-acrobat",
   "metadata": {},
   "outputs": [],
   "source": [
    "from xgboost import XGBRegressor"
   ]
  },
  {
   "cell_type": "code",
   "execution_count": 64,
   "id": "social-single",
   "metadata": {},
   "outputs": [
    {
     "name": "stdout",
     "output_type": "stream",
     "text": [
      "[LightGBM] [Warning] Unknown parameter: random_State\n",
      "[14:52:10] WARNING: C:/Users/Administrator/workspace/xgboost-win64_release_1.6.0/src/learner.cc:627: \n",
      "Parameters: { \"random_State\" } might not be used.\n",
      "\n",
      "  This could be a false alarm, with some parameters getting used by language bindings but\n",
      "  then being mistakenly passed down to XGBoost core, or some parameter actually being used\n",
      "  but getting flagged wrongly here. Please open an issue if you find any such cases.\n",
      "\n",
      "\n"
     ]
    }
   ],
   "source": [
    "LGBregressor = LGBMRegressor(random_State= 42)\n",
    "XGBRegressor = XGBRegressor(random_State= 42)\n",
    "\n",
    "LGBmodel = LGBregressor.fit(xtrain2,ytrain2 )\n",
    "XGBmodel = XGBRegressor.fit(xtrain2, ytrain2)\n"
   ]
  },
  {
   "cell_type": "code",
   "execution_count": 78,
   "id": "worst-overhead",
   "metadata": {},
   "outputs": [
    {
     "name": "stdout",
     "output_type": "stream",
     "text": [
      "3.6731852462704695\n",
      "3.1901150085849754\n",
      "0.8102347384012002\n",
      "0.8568656956519156\n"
     ]
    }
   ],
   "source": [
    "# SCORE  - RMSE, accuracy\n",
    "from sklearn.metrics import mean_squared_error\n",
    "LGBpred = LGBmodel.predict(xvalid)\n",
    "XGBpred = XGBmodel.predict(xvalid)\n",
    "\n",
    "LGBrmse =  mean_squared_error(yvalid, LGBpred)**(1/2)\n",
    "XGBrmse = mean_squared_error(yvalid, XGBpred)**(1/2)\n",
    "print(LGBrmse)\n",
    "print(XGBrmse)\n",
    "\n",
    "print(LGBmodel.score(xvalid, yvalid))\n",
    "print(XGBmodel.score(xvalid, yvalid))"
   ]
  },
  {
   "cell_type": "code",
   "execution_count": 74,
   "id": "pediatric-curtis",
   "metadata": {
    "scrolled": true
   },
   "outputs": [
    {
     "name": "stdout",
     "output_type": "stream",
     "text": [
      "Help on method score in module sklearn.base:\n",
      "\n",
      "score(X, y, sample_weight=None) method of lightgbm.sklearn.LGBMRegressor instance\n",
      "    Return the coefficient of determination :math:`R^2` of the\n",
      "    prediction.\n",
      "    \n",
      "    The coefficient :math:`R^2` is defined as :math:`(1 - \\frac{u}{v})`,\n",
      "    where :math:`u` is the residual sum of squares ``((y_true - y_pred)\n",
      "    ** 2).sum()`` and :math:`v` is the total sum of squares ``((y_true -\n",
      "    y_true.mean()) ** 2).sum()``. The best possible score is 1.0 and it\n",
      "    can be negative (because the model can be arbitrarily worse). A\n",
      "    constant model that always predicts the expected value of `y`,\n",
      "    disregarding the input features, would get a :math:`R^2` score of\n",
      "    0.0.\n",
      "    \n",
      "    Parameters\n",
      "    ----------\n",
      "    X : array-like of shape (n_samples, n_features)\n",
      "        Test samples. For some estimators this may be a precomputed\n",
      "        kernel matrix or a list of generic objects instead with shape\n",
      "        ``(n_samples, n_samples_fitted)``, where ``n_samples_fitted``\n",
      "        is the number of samples used in the fitting for the estimator.\n",
      "    \n",
      "    y : array-like of shape (n_samples,) or (n_samples, n_outputs)\n",
      "        True values for `X`.\n",
      "    \n",
      "    sample_weight : array-like of shape (n_samples,), default=None\n",
      "        Sample weights.\n",
      "    \n",
      "    Returns\n",
      "    -------\n",
      "    score : float\n",
      "        :math:`R^2` of ``self.predict(X)`` wrt. `y`.\n",
      "    \n",
      "    Notes\n",
      "    -----\n",
      "    The :math:`R^2` score used when calling ``score`` on a regressor uses\n",
      "    ``multioutput='uniform_average'`` from version 0.23 to keep consistent\n",
      "    with default value of :func:`~sklearn.metrics.r2_score`.\n",
      "    This influences the ``score`` method of all the multioutput\n",
      "    regressors (except for\n",
      "    :class:`~sklearn.multioutput.MultiOutputRegressor`).\n",
      "\n"
     ]
    }
   ],
   "source": [
    "help(LGBmodel.score)"
   ]
  },
  {
   "cell_type": "code",
   "execution_count": 82,
   "id": "accessory-encounter",
   "metadata": {},
   "outputs": [
    {
     "name": "stdout",
     "output_type": "stream",
     "text": [
      "15.632834506226603\n",
      "0.3890413752255669\n",
      "0.4866621593348154\n"
     ]
    }
   ],
   "source": [
    "# TEST 데이터 예측\n",
    "testpred = LGBmodel.predict(xtest)\n",
    "testpred2 = XGBmodel.predict(xtest)\n",
    "print(mean_squared_error(ytest, testpred)**(1/2))\n",
    "print(LGBmodel.score(scaled_xte, ytest))\n",
    "print(XGBmodel.score(scaled_xte, ytest))  # accuracy 48% 정도임"
   ]
  },
  {
   "cell_type": "code",
   "execution_count": 86,
   "id": "patient-canada",
   "metadata": {},
   "outputs": [
    {
     "data": {
      "text/plain": [
       "15.010169565328768"
      ]
     },
     "execution_count": 86,
     "metadata": {},
     "output_type": "execute_result"
    }
   ],
   "source": [
    "mean_squared_error(ytest, testpred2)**(1/2)"
   ]
  },
  {
   "cell_type": "code",
   "execution_count": 83,
   "id": "republican-commercial",
   "metadata": {},
   "outputs": [],
   "source": [
    "# submission 파일 만들기\n",
    "sub  = pd.DataFrame()\n",
    "sub['index'] = xtest.index\n",
    "sub['target'] = testpred2"
   ]
  },
  {
   "cell_type": "code",
   "execution_count": 85,
   "id": "operational-amount",
   "metadata": {},
   "outputs": [],
   "source": [
    "sub.to_csv('submission.csv',index = False)"
   ]
  }
 ],
 "metadata": {
  "kernelspec": {
   "display_name": "Python 3",
   "language": "python",
   "name": "python3"
  },
  "language_info": {
   "codemirror_mode": {
    "name": "ipython",
    "version": 3
   },
   "file_extension": ".py",
   "mimetype": "text/x-python",
   "name": "python",
   "nbconvert_exporter": "python",
   "pygments_lexer": "ipython3",
   "version": "3.8.8"
  }
 },
 "nbformat": 4,
 "nbformat_minor": 5
}
